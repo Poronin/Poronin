{
 "cells": [
  {
   "cell_type": "markdown",
   "id": "medieval-salad",
   "metadata": {},
   "source": [
    "\n",
    "A1 - Preproceso de datos\n"
   ]
  },
  {
   "cell_type": "markdown",
   "id": "clean-planner",
   "metadata": {},
   "source": [
    "En esta actividad realizaremos el preprocesado de un fichero de datos que contiene información de una\n",
    "muestra de indemnizaciones otorgadas por una compañía de seguros, en función del tiempo de baja laboral\n",
    "del trabajador:\n",
    "\n",
    "Las variables del fichero de datos (train3.csv) son:\n",
    "\n",
    "* ClaimNumber: Identificador de la póliza.\n",
    "* DateTimeOfAccident: Fecha del accidente.\n",
    "* DateReported: Fecha que se comunica a la compañía y se abre el expediente.\n",
    "* Age: Edad del trabajador.\n",
    "* Gender: Sexo.\n",
    "* MaritalStatus: Estado civil, (M)arried, (S)ingle, (U)nknown, (W)idowed, (D)ivorced.\n",
    "* DependentChildren: Número de hijos dependientes.\n",
    "* DependentsOther: Número de dependientes excluyendo hijos.\n",
    "* WeeklyWages: Salario semanal (en EUR).\n",
    "* PartTimeFullTime: Jornada laboral, Part time (P) o Full time(F).\n",
    "* HoursWorkedPerWeek: Número horas por semana.\n",
    "* DaysWorkedPerWeek: Número de días por semana.\n",
    "* ClaimDescription: Descripción siniestros.\n",
    "* InitialIncurredClaimCost: Estimación inicial del coste realizado por la compañía.\n",
    "* UltimateIncurredClaimCost: Coste total pagado por siniestro.\n",
    "\n"
   ]
  },
  {
   "cell_type": "markdown",
   "id": "preliminary-alexandria",
   "metadata": {},
   "source": [
    "#  Carga del archivo\n",
    "\n",
    "Cargar el archivo de datos y examinar el tipo de datos con los que R ha interpretado cada variable. Examinar\n",
    "también los valores resumen de cada tipo de variable."
   ]
  },
  {
   "cell_type": "code",
   "execution_count": 86,
   "id": "tutorial-milton",
   "metadata": {
    "scrolled": false
   },
   "outputs": [],
   "source": [
    "# librerias\n",
    "from sklearn.impute import KNNImputer\n",
    "import pandas as pd\n",
    "import re\n",
    "import numpy as np\n",
    "import matplotlib as mpl\n",
    "import matplotlib.pyplot as plt\n",
    "%matplotlib inline"
   ]
  },
  {
   "cell_type": "code",
   "execution_count": 87,
   "id": "excess-graphics",
   "metadata": {
    "scrolled": true
   },
   "outputs": [
    {
     "data": {
      "text/html": [
       "<div>\n",
       "<style scoped>\n",
       "    .dataframe tbody tr th:only-of-type {\n",
       "        vertical-align: middle;\n",
       "    }\n",
       "\n",
       "    .dataframe tbody tr th {\n",
       "        vertical-align: top;\n",
       "    }\n",
       "\n",
       "    .dataframe thead th {\n",
       "        text-align: right;\n",
       "    }\n",
       "</style>\n",
       "<table border=\"1\" class=\"dataframe\">\n",
       "  <thead>\n",
       "    <tr style=\"text-align: right;\">\n",
       "      <th></th>\n",
       "      <th>ClaimNumber</th>\n",
       "      <th>DateTimeOfAccident</th>\n",
       "      <th>DateReported</th>\n",
       "      <th>Age</th>\n",
       "      <th>Gender</th>\n",
       "      <th>MaritalStatus</th>\n",
       "      <th>DependentChildren</th>\n",
       "      <th>DependentsOther</th>\n",
       "      <th>WeeklyWages</th>\n",
       "      <th>PartTimeFullTime</th>\n",
       "      <th>HoursWorkedPerWeek</th>\n",
       "      <th>DaysWorkedPerWeek</th>\n",
       "      <th>ClaimDescription</th>\n",
       "      <th>InitialIncurredCalimsCost</th>\n",
       "      <th>UltimateIncurredClaimCost</th>\n",
       "    </tr>\n",
       "  </thead>\n",
       "  <tbody>\n",
       "    <tr>\n",
       "      <th>0</th>\n",
       "      <td>WC8285054</td>\n",
       "      <td>2002-04-09T07:00:00Z</td>\n",
       "      <td>2002-07-05T00:00:00Z</td>\n",
       "      <td>48</td>\n",
       "      <td>M</td>\n",
       "      <td>M</td>\n",
       "      <td>0</td>\n",
       "      <td>0</td>\n",
       "      <td>500</td>\n",
       "      <td>F</td>\n",
       "      <td>38</td>\n",
       "      <td>5</td>\n",
       "      <td>LIFTING TYRE INJURY TO RIGHT ARM AND WRIST INJURY</td>\n",
       "      <td>1500</td>\n",
       "      <td>4303.188001</td>\n",
       "    </tr>\n",
       "    <tr>\n",
       "      <th>1</th>\n",
       "      <td>WC6982224</td>\n",
       "      <td>1999-01-07T11:00:00Z</td>\n",
       "      <td>1999-01-20T00:00:00Z</td>\n",
       "      <td>43</td>\n",
       "      <td>F</td>\n",
       "      <td>m</td>\n",
       "      <td>0</td>\n",
       "      <td>0</td>\n",
       "      <td>509,34</td>\n",
       "      <td>F</td>\n",
       "      <td>37,5</td>\n",
       "      <td>5</td>\n",
       "      <td>STEPPED AROUND CRATES AND TRUCK TRAY FRACTURE ...</td>\n",
       "      <td>5500</td>\n",
       "      <td>6105.872938</td>\n",
       "    </tr>\n",
       "  </tbody>\n",
       "</table>\n",
       "</div>"
      ],
      "text/plain": [
       "  ClaimNumber    DateTimeOfAccident          DateReported  Age Gender  \\\n",
       "0   WC8285054  2002-04-09T07:00:00Z  2002-07-05T00:00:00Z   48      M   \n",
       "1   WC6982224  1999-01-07T11:00:00Z  1999-01-20T00:00:00Z   43      F   \n",
       "\n",
       "  MaritalStatus  DependentChildren  DependentsOther WeeklyWages  \\\n",
       "0             M                  0                0         500   \n",
       "1             m                  0                0      509,34   \n",
       "\n",
       "  PartTimeFullTime HoursWorkedPerWeek  DaysWorkedPerWeek  \\\n",
       "0                F                 38                  5   \n",
       "1                F               37,5                  5   \n",
       "\n",
       "                                    ClaimDescription  \\\n",
       "0  LIFTING TYRE INJURY TO RIGHT ARM AND WRIST INJURY   \n",
       "1  STEPPED AROUND CRATES AND TRUCK TRAY FRACTURE ...   \n",
       "\n",
       "   InitialIncurredCalimsCost UltimateIncurredClaimCost  \n",
       "0                       1500               4303.188001  \n",
       "1                       5500               6105.872938  "
      ]
     },
     "execution_count": 87,
     "metadata": {},
     "output_type": "execute_result"
    }
   ],
   "source": [
    "# Cargamos el dataset\n",
    "df_train3_raw = pd.read_csv('train3.csv',delimiter=';')\n",
    "\n",
    "# Estilo de las graficas 'Classic'\n",
    "plt.style.use('seaborn-white')\n",
    "\n",
    "# Mostramos los primeros valores del dataset\n",
    "df_train3_raw.head(2)"
   ]
  },
  {
   "cell_type": "code",
   "execution_count": 88,
   "id": "another-production",
   "metadata": {},
   "outputs": [],
   "source": [
    "# Mostramos los últimos valores del dataset.\n",
    "# df_train3_raw.tail(2)"
   ]
  },
  {
   "cell_type": "code",
   "execution_count": 89,
   "id": "peripheral-elite",
   "metadata": {},
   "outputs": [
    {
     "name": "stdout",
     "output_type": "stream",
     "text": [
      "<class 'pandas.core.frame.DataFrame'>\n",
      "RangeIndex: 54000 entries, 0 to 53999\n",
      "Data columns (total 15 columns):\n",
      " #   Column                     Non-Null Count  Dtype \n",
      "---  ------                     --------------  ----- \n",
      " 0   ClaimNumber                54000 non-null  object\n",
      " 1   DateTimeOfAccident         54000 non-null  object\n",
      " 2   DateReported               54000 non-null  object\n",
      " 3   Age                        54000 non-null  int64 \n",
      " 4   Gender                     54000 non-null  object\n",
      " 5   MaritalStatus              53971 non-null  object\n",
      " 6   DependentChildren          54000 non-null  int64 \n",
      " 7   DependentsOther            54000 non-null  int64 \n",
      " 8   WeeklyWages                54000 non-null  object\n",
      " 9   PartTimeFullTime           54000 non-null  object\n",
      " 10  HoursWorkedPerWeek         54000 non-null  object\n",
      " 11  DaysWorkedPerWeek          54000 non-null  int64 \n",
      " 12  ClaimDescription           54000 non-null  object\n",
      " 13  InitialIncurredCalimsCost  54000 non-null  int64 \n",
      " 14  UltimateIncurredClaimCost  54000 non-null  object\n",
      "dtypes: int64(5), object(10)\n",
      "memory usage: 6.2+ MB\n"
     ]
    }
   ],
   "source": [
    "# Mostramos los tipos de datos.\n",
    "df_train3_raw.info()"
   ]
  },
  {
   "cell_type": "markdown",
   "id": "nearby-corrections",
   "metadata": {},
   "source": [
    "Comprobamos que el dataset tiene 54000 muestras y 15 variables. Una de las variable, MaritalStatus, contiene valores nulos. También vemos que Python hace una primera interpretacion del tipo de variables que habrá que ajustar más adelante, por ejemplo DateTimeOfAccident entre otras.\n",
    "\n",
    "Mostramos las estadísticas básicas de las variables cuantitativas y cualitativas. Estas estadísticas nos dan una primera idea como se distribuyen las muestras."
   ]
  },
  {
   "cell_type": "code",
   "execution_count": 90,
   "id": "formed-stopping",
   "metadata": {},
   "outputs": [
    {
     "data": {
      "text/html": [
       "<div>\n",
       "<style scoped>\n",
       "    .dataframe tbody tr th:only-of-type {\n",
       "        vertical-align: middle;\n",
       "    }\n",
       "\n",
       "    .dataframe tbody tr th {\n",
       "        vertical-align: top;\n",
       "    }\n",
       "\n",
       "    .dataframe thead th {\n",
       "        text-align: right;\n",
       "    }\n",
       "</style>\n",
       "<table border=\"1\" class=\"dataframe\">\n",
       "  <thead>\n",
       "    <tr style=\"text-align: right;\">\n",
       "      <th></th>\n",
       "      <th>Age</th>\n",
       "      <th>DependentChildren</th>\n",
       "      <th>DependentsOther</th>\n",
       "      <th>DaysWorkedPerWeek</th>\n",
       "      <th>InitialIncurredCalimsCost</th>\n",
       "    </tr>\n",
       "  </thead>\n",
       "  <tbody>\n",
       "    <tr>\n",
       "      <th>count</th>\n",
       "      <td>54000.000000</td>\n",
       "      <td>54000.000000</td>\n",
       "      <td>54000.000000</td>\n",
       "      <td>54000.000000</td>\n",
       "      <td>5.400000e+04</td>\n",
       "    </tr>\n",
       "    <tr>\n",
       "      <th>mean</th>\n",
       "      <td>34.056093</td>\n",
       "      <td>0.119185</td>\n",
       "      <td>0.009944</td>\n",
       "      <td>4.905759</td>\n",
       "      <td>7.841146e+03</td>\n",
       "    </tr>\n",
       "    <tr>\n",
       "      <th>std</th>\n",
       "      <td>18.811365</td>\n",
       "      <td>0.517780</td>\n",
       "      <td>0.109348</td>\n",
       "      <td>0.552129</td>\n",
       "      <td>2.058408e+04</td>\n",
       "    </tr>\n",
       "    <tr>\n",
       "      <th>min</th>\n",
       "      <td>13.000000</td>\n",
       "      <td>0.000000</td>\n",
       "      <td>0.000000</td>\n",
       "      <td>1.000000</td>\n",
       "      <td>1.000000e+00</td>\n",
       "    </tr>\n",
       "    <tr>\n",
       "      <th>25%</th>\n",
       "      <td>23.000000</td>\n",
       "      <td>0.000000</td>\n",
       "      <td>0.000000</td>\n",
       "      <td>5.000000</td>\n",
       "      <td>7.000000e+02</td>\n",
       "    </tr>\n",
       "    <tr>\n",
       "      <th>50%</th>\n",
       "      <td>32.000000</td>\n",
       "      <td>0.000000</td>\n",
       "      <td>0.000000</td>\n",
       "      <td>5.000000</td>\n",
       "      <td>2.000000e+03</td>\n",
       "    </tr>\n",
       "    <tr>\n",
       "      <th>75%</th>\n",
       "      <td>43.000000</td>\n",
       "      <td>0.000000</td>\n",
       "      <td>0.000000</td>\n",
       "      <td>5.000000</td>\n",
       "      <td>9.500000e+03</td>\n",
       "    </tr>\n",
       "    <tr>\n",
       "      <th>max</th>\n",
       "      <td>999.000000</td>\n",
       "      <td>9.000000</td>\n",
       "      <td>5.000000</td>\n",
       "      <td>7.000000</td>\n",
       "      <td>2.000000e+06</td>\n",
       "    </tr>\n",
       "  </tbody>\n",
       "</table>\n",
       "</div>"
      ],
      "text/plain": [
       "                Age  DependentChildren  DependentsOther  DaysWorkedPerWeek  \\\n",
       "count  54000.000000       54000.000000     54000.000000       54000.000000   \n",
       "mean      34.056093           0.119185         0.009944           4.905759   \n",
       "std       18.811365           0.517780         0.109348           0.552129   \n",
       "min       13.000000           0.000000         0.000000           1.000000   \n",
       "25%       23.000000           0.000000         0.000000           5.000000   \n",
       "50%       32.000000           0.000000         0.000000           5.000000   \n",
       "75%       43.000000           0.000000         0.000000           5.000000   \n",
       "max      999.000000           9.000000         5.000000           7.000000   \n",
       "\n",
       "       InitialIncurredCalimsCost  \n",
       "count               5.400000e+04  \n",
       "mean                7.841146e+03  \n",
       "std                 2.058408e+04  \n",
       "min                 1.000000e+00  \n",
       "25%                 7.000000e+02  \n",
       "50%                 2.000000e+03  \n",
       "75%                 9.500000e+03  \n",
       "max                 2.000000e+06  "
      ]
     },
     "execution_count": 90,
     "metadata": {},
     "output_type": "execute_result"
    }
   ],
   "source": [
    "# Mostramos las estadísticas básicas de las variables cuantitativas.\n",
    "df_train3_raw.describe()"
   ]
  },
  {
   "cell_type": "code",
   "execution_count": 91,
   "id": "noble-pressing",
   "metadata": {},
   "outputs": [
    {
     "data": {
      "text/html": [
       "<div>\n",
       "<style scoped>\n",
       "    .dataframe tbody tr th:only-of-type {\n",
       "        vertical-align: middle;\n",
       "    }\n",
       "\n",
       "    .dataframe tbody tr th {\n",
       "        vertical-align: top;\n",
       "    }\n",
       "\n",
       "    .dataframe thead th {\n",
       "        text-align: right;\n",
       "    }\n",
       "</style>\n",
       "<table border=\"1\" class=\"dataframe\">\n",
       "  <thead>\n",
       "    <tr style=\"text-align: right;\">\n",
       "      <th></th>\n",
       "      <th>ClaimNumber</th>\n",
       "      <th>DateTimeOfAccident</th>\n",
       "      <th>DateReported</th>\n",
       "      <th>Gender</th>\n",
       "      <th>MaritalStatus</th>\n",
       "      <th>WeeklyWages</th>\n",
       "      <th>PartTimeFullTime</th>\n",
       "      <th>HoursWorkedPerWeek</th>\n",
       "      <th>ClaimDescription</th>\n",
       "      <th>UltimateIncurredClaimCost</th>\n",
       "    </tr>\n",
       "  </thead>\n",
       "  <tbody>\n",
       "    <tr>\n",
       "      <th>count</th>\n",
       "      <td>54000</td>\n",
       "      <td>54000</td>\n",
       "      <td>54000</td>\n",
       "      <td>54000</td>\n",
       "      <td>53971</td>\n",
       "      <td>54000</td>\n",
       "      <td>54000</td>\n",
       "      <td>54000</td>\n",
       "      <td>54000</td>\n",
       "      <td>54000</td>\n",
       "    </tr>\n",
       "    <tr>\n",
       "      <th>unique</th>\n",
       "      <td>53996</td>\n",
       "      <td>36673</td>\n",
       "      <td>6653</td>\n",
       "      <td>5</td>\n",
       "      <td>9</td>\n",
       "      <td>13211</td>\n",
       "      <td>2</td>\n",
       "      <td>424</td>\n",
       "      <td>28114</td>\n",
       "      <td>54000</td>\n",
       "    </tr>\n",
       "    <tr>\n",
       "      <th>top</th>\n",
       "      <td>WC8668542</td>\n",
       "      <td>1991-02-19T11:00:00Z</td>\n",
       "      <td>2001-03-29T00:00:00Z</td>\n",
       "      <td>M</td>\n",
       "      <td>S</td>\n",
       "      <td>200</td>\n",
       "      <td>F</td>\n",
       "      <td>38</td>\n",
       "      <td>SLIPPED ON ROLLER TENDONITIS RIGHT SHOULDER</td>\n",
       "      <td>1337.983163</td>\n",
       "    </tr>\n",
       "    <tr>\n",
       "      <th>freq</th>\n",
       "      <td>3</td>\n",
       "      <td>9</td>\n",
       "      <td>25</td>\n",
       "      <td>41660</td>\n",
       "      <td>26161</td>\n",
       "      <td>12372</td>\n",
       "      <td>49112</td>\n",
       "      <td>30829</td>\n",
       "      <td>289</td>\n",
       "      <td>1</td>\n",
       "    </tr>\n",
       "  </tbody>\n",
       "</table>\n",
       "</div>"
      ],
      "text/plain": [
       "       ClaimNumber    DateTimeOfAccident          DateReported Gender  \\\n",
       "count        54000                 54000                 54000  54000   \n",
       "unique       53996                 36673                  6653      5   \n",
       "top      WC8668542  1991-02-19T11:00:00Z  2001-03-29T00:00:00Z      M   \n",
       "freq             3                     9                    25  41660   \n",
       "\n",
       "       MaritalStatus WeeklyWages PartTimeFullTime HoursWorkedPerWeek  \\\n",
       "count          53971       54000            54000              54000   \n",
       "unique             9       13211                2                424   \n",
       "top                S         200                F                 38   \n",
       "freq           26161       12372            49112              30829   \n",
       "\n",
       "                                   ClaimDescription UltimateIncurredClaimCost  \n",
       "count                                         54000                     54000  \n",
       "unique                                        28114                     54000  \n",
       "top     SLIPPED ON ROLLER TENDONITIS RIGHT SHOULDER               1337.983163  \n",
       "freq                                            289                         1  "
      ]
     },
     "execution_count": 91,
     "metadata": {},
     "output_type": "execute_result"
    }
   ],
   "source": [
    "# Mostramos las estadísticas básicas de las variables cualitativas.\n",
    "df_train3_raw.describe(include=object)"
   ]
  },
  {
   "cell_type": "markdown",
   "id": "modified-dancing",
   "metadata": {},
   "source": [
    "Cargamos y exploramos el dataset."
   ]
  },
  {
   "cell_type": "markdown",
   "id": "overhead-raising",
   "metadata": {},
   "source": [
    "Duplicamos el dataset para no modificar el original. Todos los cambios que vayamos realizando lo iremos introduciendo en el dataset final df_train.\n"
   ]
  },
  {
   "cell_type": "code",
   "execution_count": 92,
   "id": "expressed-viewer",
   "metadata": {},
   "outputs": [],
   "source": [
    "df_train3 = df_train3_raw.copy()"
   ]
  },
  {
   "cell_type": "markdown",
   "id": "pressed-workplace",
   "metadata": {},
   "source": [
    "# Duplicación de códigos\n",
    "\n",
    "Verificad la consistencia en la variable ClaimNumber. Si existen registros duplicados, asignad un nuevo código\n",
    "para evitar códigos duplicados. El nuevo código debe ser un valor no usado (valores superiores al máximo\n",
    "valor numérico contenido en ClaimNumber). Conservad el mismo formato que el resto de códigos, con “WC”\n",
    "delante de la secuencia numérica. Podéis usar la función duplicated de R para detectar los duplicados."
   ]
  },
  {
   "cell_type": "code",
   "execution_count": 93,
   "id": "hourly-utility",
   "metadata": {},
   "outputs": [
    {
     "data": {
      "text/plain": [
       "False    53996\n",
       "True         4\n",
       "Name: ClaimNumber, dtype: int64"
      ]
     },
     "execution_count": 93,
     "metadata": {},
     "output_type": "execute_result"
    }
   ],
   "source": [
    "# Confirmamos que hay cuatro valores duplicados.\n",
    "df_train3_raw[\"ClaimNumber\"].duplicated().value_counts()"
   ]
  },
  {
   "cell_type": "code",
   "execution_count": 94,
   "id": "selected-dimension",
   "metadata": {},
   "outputs": [
    {
     "data": {
      "text/plain": [
       "ClaimNumber\n",
       "WC3501716    2\n",
       "WC6383678    2\n",
       "WC8668542    3\n",
       "Name: ClaimNumber, dtype: int64"
      ]
     },
     "execution_count": 94,
     "metadata": {},
     "output_type": "execute_result"
    }
   ],
   "source": [
    "# Comprobamos cuantos duplicados hay por valor.\n",
    "ClaimNumber_counts = df_train3_raw.groupby('ClaimNumber')['ClaimNumber'].count()\n",
    "ClaimNumber_counts[ClaimNumber_counts>1]"
   ]
  },
  {
   "cell_type": "code",
   "execution_count": 95,
   "id": "shared-buyer",
   "metadata": {},
   "outputs": [
    {
     "data": {
      "text/plain": [
       "110      WC8668542\n",
       "40048    WC8668542\n",
       "50090    WC3501716\n",
       "50278    WC6383678\n",
       "Name: ClaimNumber, dtype: object"
      ]
     },
     "execution_count": 95,
     "metadata": {},
     "output_type": "execute_result"
    }
   ],
   "source": [
    "# Mostramos los valores a corregir.\n",
    "df_train3_raw[df_train3_raw[\"ClaimNumber\"].duplicated()]['ClaimNumber']"
   ]
  },
  {
   "cell_type": "code",
   "execution_count": 96,
   "id": "olive-atlantic",
   "metadata": {},
   "outputs": [
    {
     "data": {
      "text/plain": [
       "'WC9999961'"
      ]
     },
     "execution_count": 96,
     "metadata": {},
     "output_type": "execute_result"
    }
   ],
   "source": [
    "# Encontramos el valor más alto. \n",
    "df_train3_raw['ClaimNumber'].max()"
   ]
  },
  {
   "cell_type": "markdown",
   "id": "generic-prague",
   "metadata": {},
   "source": [
    "Como solo son cuatro valores podemos modificarlos manualmente sumando uno al valor más alto. "
   ]
  },
  {
   "cell_type": "code",
   "execution_count": 97,
   "id": "elementary-confidentiality",
   "metadata": {},
   "outputs": [],
   "source": [
    "# Modificamos los valores\n",
    "df_train3.loc[110,   ('ClaimNumber')] = 'WC9999962'\n",
    "df_train3.loc[40048, ('ClaimNumber')] = 'WC9999963'\n",
    "df_train3.loc[50090, ('ClaimNumber')] = 'WC9999964'\n",
    "df_train3.loc[50278, ('ClaimNumber')] = 'WC9999965'"
   ]
  },
  {
   "cell_type": "code",
   "execution_count": 98,
   "id": "cleared-consultancy",
   "metadata": {},
   "outputs": [
    {
     "data": {
      "text/plain": [
       "False    54000\n",
       "Name: ClaimNumber, dtype: int64"
      ]
     },
     "execution_count": 98,
     "metadata": {},
     "output_type": "execute_result"
    }
   ],
   "source": [
    "# Comprobamos que ya no hay valores duplicados.\n",
    "df_train3[\"ClaimNumber\"].duplicated().value_counts()"
   ]
  },
  {
   "cell_type": "markdown",
   "id": "pressing-provider",
   "metadata": {},
   "source": [
    "# Nombres de las variables\n",
    "Simplificad el nombre de algunas variables para hacer más fácil su manejo. En concreto, cambiad el nombre\n",
    "de las variables:\n",
    "    \n",
    "* InitialIncurredClaimCost por IniCost\n",
    "* UltimateIncurredClaimCost por UltCost\n",
    "* HoursWorkedPerWeek por HoursWeek\n",
    "* DaysWorkedPerWeek por DaysWeek\n",
    "\n",
    "En el resto del enunciado, usaremos los nuevos nombres de estas variables."
   ]
  },
  {
   "cell_type": "code",
   "execution_count": 99,
   "id": "noticed-irrigation",
   "metadata": {
    "scrolled": true
   },
   "outputs": [
    {
     "data": {
      "text/html": [
       "<div>\n",
       "<style scoped>\n",
       "    .dataframe tbody tr th:only-of-type {\n",
       "        vertical-align: middle;\n",
       "    }\n",
       "\n",
       "    .dataframe tbody tr th {\n",
       "        vertical-align: top;\n",
       "    }\n",
       "\n",
       "    .dataframe thead th {\n",
       "        text-align: right;\n",
       "    }\n",
       "</style>\n",
       "<table border=\"1\" class=\"dataframe\">\n",
       "  <thead>\n",
       "    <tr style=\"text-align: right;\">\n",
       "      <th></th>\n",
       "      <th>HoursWeek</th>\n",
       "      <th>DaysWeek</th>\n",
       "      <th>IniCost</th>\n",
       "      <th>UltCost</th>\n",
       "    </tr>\n",
       "  </thead>\n",
       "  <tbody>\n",
       "    <tr>\n",
       "      <th>0</th>\n",
       "      <td>38</td>\n",
       "      <td>5</td>\n",
       "      <td>1500</td>\n",
       "      <td>4303.188001</td>\n",
       "    </tr>\n",
       "    <tr>\n",
       "      <th>1</th>\n",
       "      <td>37,5</td>\n",
       "      <td>5</td>\n",
       "      <td>5500</td>\n",
       "      <td>6105.872938</td>\n",
       "    </tr>\n",
       "    <tr>\n",
       "      <th>2</th>\n",
       "      <td>38</td>\n",
       "      <td>5</td>\n",
       "      <td>1700</td>\n",
       "      <td>2098.629955</td>\n",
       "    </tr>\n",
       "  </tbody>\n",
       "</table>\n",
       "</div>"
      ],
      "text/plain": [
       "  HoursWeek  DaysWeek  IniCost      UltCost\n",
       "0        38         5     1500  4303.188001\n",
       "1      37,5         5     5500  6105.872938\n",
       "2        38         5     1700  2098.629955"
      ]
     },
     "execution_count": 99,
     "metadata": {},
     "output_type": "execute_result"
    }
   ],
   "source": [
    "# Modificamos los nombres de las variables y las mostramos en pantalla.\n",
    "df_train3.rename(columns={'InitialIncurredCalimsCost': 'IniCost', \\\n",
    "                          'UltimateIncurredClaimCost': 'UltCost',\\\n",
    "                          'HoursWorkedPerWeek': 'HoursWeek',\\\n",
    "                          'DaysWorkedPerWeek': 'DaysWeek',\\\n",
    "                         }, inplace=True)\n",
    "\n",
    "df_train3.loc[0:2,['HoursWeek','DaysWeek', 'IniCost', 'UltCost']]"
   ]
  },
  {
   "cell_type": "markdown",
   "id": "increased-theta",
   "metadata": {},
   "source": [
    "# Normalización de los datos cualitativos\n",
    "\n",
    "## Marital Status\n",
    "Los valores posibles en marital status son: M (married), S (single), U (unknown), D (divorced), W (widowed).\n",
    "Los valores nulos corresponden a unknown. Si hay valores perdidos (vacíos), modificad estos registros vacíos\n",
    "para que en su lugar aparezca U (unknown). Revisad también la consistencia del resto de valores de esta\n",
    "variable.\n",
    "\n",
    "Realizamos un primera visualizacion de los distintos valores o valores nulos y la cantidad de los mismos."
   ]
  },
  {
   "cell_type": "code",
   "execution_count": 100,
   "id": "interested-contrary",
   "metadata": {},
   "outputs": [
    {
     "data": {
      "text/plain": [
       "MaritalStatus\n",
       "D             63\n",
       "M          21862\n",
       "S          26161\n",
       "U           5294\n",
       "W             12\n",
       "d             13\n",
       "m            242\n",
       "married      316\n",
       "w              8\n",
       "dtype: int64"
      ]
     },
     "execution_count": 100,
     "metadata": {},
     "output_type": "execute_result"
    }
   ],
   "source": [
    "# Valores disponibles en la variable.\n",
    "df_train3_raw.groupby(['MaritalStatus']).size()"
   ]
  },
  {
   "cell_type": "code",
   "execution_count": 101,
   "id": "optional-turkey",
   "metadata": {
    "scrolled": true
   },
   "outputs": [
    {
     "data": {
      "text/plain": [
       "False    53971\n",
       "True        29\n",
       "Name: MaritalStatus, dtype: int64"
      ]
     },
     "execution_count": 101,
     "metadata": {},
     "output_type": "execute_result"
    }
   ],
   "source": [
    "# Cantidad de valores nulos.\n",
    "df_train3_raw['MaritalStatus'].isna().value_counts()"
   ]
  },
  {
   "cell_type": "markdown",
   "id": "floating-baltimore",
   "metadata": {},
   "source": [
    "Una vez sabemos los valores a modificar ejecutamos los siguientes comandos:"
   ]
  },
  {
   "cell_type": "code",
   "execution_count": 102,
   "id": "valuable-argument",
   "metadata": {},
   "outputs": [],
   "source": [
    "# Cambiamo valores nulos por U (unknown)\n",
    "mask = df_train3_raw['MaritalStatus'].isnull()\n",
    "df_train3.loc[mask, 'MaritalStatus'] = 'U'\n",
    "              \n",
    "# Cambiamos d por D (divored)\n",
    "mask = df_train3_raw['MaritalStatus'] =='d'\n",
    "df_train3.loc[ mask, 'MaritalStatus'] = 'D'\n",
    "\n",
    "# Cambiamos w por W (widowed).\n",
    "mask = df_train3_raw['MaritalStatus'] =='w'\n",
    "df_train3.loc[ mask, 'MaritalStatus'] = 'W'\n",
    "\n",
    "# Cambiamos m y married por M (married).\n",
    "mask = df_train3_raw['MaritalStatus'].str.match(r'(married)|(m)',na=False)\n",
    "df_train3.loc[ mask, 'MaritalStatus'] = 'M'\n"
   ]
  },
  {
   "cell_type": "markdown",
   "id": "hidden-energy",
   "metadata": {},
   "source": [
    "Comprobamos los cambios realizados."
   ]
  },
  {
   "cell_type": "code",
   "execution_count": 103,
   "id": "compound-finder",
   "metadata": {},
   "outputs": [
    {
     "data": {
      "text/plain": [
       "S    26161\n",
       "M    22420\n",
       "U     5323\n",
       "D       76\n",
       "W       20\n",
       "Name: MaritalStatus, dtype: int64"
      ]
     },
     "execution_count": 103,
     "metadata": {},
     "output_type": "execute_result"
    }
   ],
   "source": [
    "# Comprobacion de los cambions.\n",
    "df_train3['MaritalStatus'].value_counts()"
   ]
  },
  {
   "cell_type": "markdown",
   "id": "duplicate-marking",
   "metadata": {},
   "source": [
    "## Género\n",
    "Revisad la consistencia de los valores de la variable género y realizad las modificaciones oportunas.\n",
    "\n",
    "Realizamos un primera visualizacion de los distintos valores."
   ]
  },
  {
   "cell_type": "code",
   "execution_count": 104,
   "id": "tropical-pride",
   "metadata": {
    "scrolled": true
   },
   "outputs": [
    {
     "data": {
      "text/plain": [
       "M     41660\n",
       "F     11507\n",
       "f       534\n",
       "Fm      297\n",
       "U         2\n",
       "Name: Gender, dtype: int64"
      ]
     },
     "execution_count": 104,
     "metadata": {},
     "output_type": "execute_result"
    }
   ],
   "source": [
    "#\n",
    "df_train3_raw['Gender'].value_counts()"
   ]
  },
  {
   "cell_type": "markdown",
   "id": "ideal-newark",
   "metadata": {},
   "source": [
    "Una vez sabemos los valores a modificar ejecutamos los siguientes comandos:"
   ]
  },
  {
   "cell_type": "code",
   "execution_count": 105,
   "id": "continuous-annex",
   "metadata": {},
   "outputs": [],
   "source": [
    "# Cambiamos d por D (divored)\n",
    "mask = df_train3_raw['Gender'] =='f'\n",
    "df_train3.loc[ mask, 'Gender'] = 'F'\n",
    "\n",
    "# Cambiamos Fm por U (unkonow), ya que Fm es un valor indeterminado.\n",
    "mask = df_train3_raw['Gender'] =='Fm'\n",
    "df_train3.loc[ mask, 'Gender'] = 'U'\n"
   ]
  },
  {
   "cell_type": "code",
   "execution_count": 106,
   "id": "bridal-shore",
   "metadata": {},
   "outputs": [
    {
     "data": {
      "text/plain": [
       "M    41660\n",
       "F    12041\n",
       "U      299\n",
       "Name: Gender, dtype: int64"
      ]
     },
     "execution_count": 106,
     "metadata": {},
     "output_type": "execute_result"
    }
   ],
   "source": [
    "# Comprobacion de los cambions.C\n",
    "df_train3['Gender'].value_counts()"
   ]
  },
  {
   "cell_type": "markdown",
   "id": "starting-sydney",
   "metadata": {},
   "source": [
    "# Normalización de los datos cuantitativos\n",
    "\n",
    "Inspeccionar los valores de los datos cuantitativos y realizar las normalizaciones oportunas siguiendo los criterios especificados anteriormente. Estas normalizaciones tienen como objetivo uniformizar los formatos. Si hay valores perdidos o valores extremos, se tratarán más adelante. \n",
    "\n",
    "Al realizar estas normalizaciones, se debe demostrar que la normalización sobre cada variable ha dado el resultado esperado. Por lo tanto, se recomienda mostrar un fragmento del archivo de datos esultante. Para evitar mostrar todo el conjunto de datos, se puede mostrar una parte del mismo, con las funciones head y/o\n",
    "tail.\n",
    "\n",
    "Seguid el orden de los apartados."
   ]
  },
  {
   "cell_type": "markdown",
   "id": "frank-affect",
   "metadata": {},
   "source": [
    "## IniCost y UltCost\n",
    "\n",
    "Las variables InititalIncurredClaimsCost y UltimateIncurredClaimsCost se debe expresar como variables\n",
    "numéricas (de tipo entero), en unidades (no en miles) y sin decimales."
   ]
  },
  {
   "cell_type": "code",
   "execution_count": 107,
   "id": "genuine-moscow",
   "metadata": {},
   "outputs": [
    {
     "data": {
      "text/html": [
       "<div>\n",
       "<style scoped>\n",
       "    .dataframe tbody tr th:only-of-type {\n",
       "        vertical-align: middle;\n",
       "    }\n",
       "\n",
       "    .dataframe tbody tr th {\n",
       "        vertical-align: top;\n",
       "    }\n",
       "\n",
       "    .dataframe thead th {\n",
       "        text-align: right;\n",
       "    }\n",
       "</style>\n",
       "<table border=\"1\" class=\"dataframe\">\n",
       "  <thead>\n",
       "    <tr style=\"text-align: right;\">\n",
       "      <th></th>\n",
       "      <th>IniCost</th>\n",
       "      <th>UltCost</th>\n",
       "    </tr>\n",
       "  </thead>\n",
       "  <tbody>\n",
       "    <tr>\n",
       "      <th>0</th>\n",
       "      <td>1500</td>\n",
       "      <td>4303.188001</td>\n",
       "    </tr>\n",
       "    <tr>\n",
       "      <th>1</th>\n",
       "      <td>5500</td>\n",
       "      <td>6105.872938</td>\n",
       "    </tr>\n",
       "    <tr>\n",
       "      <th>2</th>\n",
       "      <td>1700</td>\n",
       "      <td>2098.629955</td>\n",
       "    </tr>\n",
       "  </tbody>\n",
       "</table>\n",
       "</div>"
      ],
      "text/plain": [
       "   IniCost      UltCost\n",
       "0     1500  4303.188001\n",
       "1     5500  6105.872938\n",
       "2     1700  2098.629955"
      ]
     },
     "execution_count": 107,
     "metadata": {},
     "output_type": "execute_result"
    }
   ],
   "source": [
    "# Mostramos los tres primeros registros a modo de ejemplo.\n",
    "df_train3.loc[:,('IniCost','UltCost')].head(3)"
   ]
  },
  {
   "cell_type": "code",
   "execution_count": 108,
   "id": "forced-concrete",
   "metadata": {},
   "outputs": [],
   "source": [
    "# Función para normalizar variable a miles\n",
    "def clean_thousand(x):\n",
    "    x = str(x)\n",
    "    if bool(re.search('[k|K]',x)):\n",
    "        return float(re.sub('[K|k]','',x)) * 1000\n",
    "    elif bool(re.search('[NA]', x)):\n",
    "        return np.nan\n",
    "    else:\n",
    "        return float(x)"
   ]
  },
  {
   "cell_type": "code",
   "execution_count": 109,
   "id": "confirmed-heritage",
   "metadata": {},
   "outputs": [],
   "source": [
    "# Convertimos la variable a tipo int.\n",
    "df_train3['IniCost'] = df_train3_raw['InitialIncurredCalimsCost'].astype(int).round(0)"
   ]
  },
  {
   "cell_type": "code",
   "execution_count": 110,
   "id": "chemical-australian",
   "metadata": {},
   "outputs": [],
   "source": [
    "# Convertimos la variable a tipo int y a unidades\n",
    "df_train3['UltCost'] = df_train3_raw['UltimateIncurredClaimCost'].apply(clean_thousand)\n",
    "df_train3['UltCost'] = df_train3['UltCost'].astype(int).round(0)"
   ]
  },
  {
   "cell_type": "code",
   "execution_count": 111,
   "id": "protecting-component",
   "metadata": {},
   "outputs": [
    {
     "data": {
      "text/plain": [
       "13        1.277718363K\n",
       "541      0.1077643807K\n",
       "834       1.445204861K\n",
       "849        8.60810336K\n",
       "887       2.597486704K\n",
       "             ...      \n",
       "53413    0.4657165393K\n",
       "53467     8.466973632K\n",
       "53663     7.694874282K\n",
       "53857     15.72715313K\n",
       "53942     56.82290544K\n",
       "Name: UltimateIncurredClaimCost, Length: 324, dtype: object"
      ]
     },
     "execution_count": 111,
     "metadata": {},
     "output_type": "execute_result"
    }
   ],
   "source": [
    "mask = df_train3_raw['UltimateIncurredClaimCost'].str.find('K') != -1\n",
    "\n",
    "# Mostramos valores expresados en miles.\n",
    "df_train3_raw.loc[mask, 'UltimateIncurredClaimCost']"
   ]
  },
  {
   "cell_type": "code",
   "execution_count": 112,
   "id": "destroyed-pursuit",
   "metadata": {},
   "outputs": [
    {
     "data": {
      "text/plain": [
       "13        1277\n",
       "541        107\n",
       "834       1445\n",
       "849       8608\n",
       "887       2597\n",
       "         ...  \n",
       "53413      465\n",
       "53467     8466\n",
       "53663     7694\n",
       "53857    15727\n",
       "53942    56822\n",
       "Name: UltCost, Length: 324, dtype: int64"
      ]
     },
     "execution_count": 112,
     "metadata": {},
     "output_type": "execute_result"
    }
   ],
   "source": [
    "# Mismos valores expresados en unidades despues del processado.\n",
    "df_train3.loc[mask, 'UltCost']"
   ]
  },
  {
   "cell_type": "code",
   "execution_count": 113,
   "id": "relative-congo",
   "metadata": {},
   "outputs": [
    {
     "data": {
      "text/html": [
       "<div>\n",
       "<style scoped>\n",
       "    .dataframe tbody tr th:only-of-type {\n",
       "        vertical-align: middle;\n",
       "    }\n",
       "\n",
       "    .dataframe tbody tr th {\n",
       "        vertical-align: top;\n",
       "    }\n",
       "\n",
       "    .dataframe thead th {\n",
       "        text-align: right;\n",
       "    }\n",
       "</style>\n",
       "<table border=\"1\" class=\"dataframe\">\n",
       "  <thead>\n",
       "    <tr style=\"text-align: right;\">\n",
       "      <th></th>\n",
       "      <th>IniCost</th>\n",
       "      <th>UltCost</th>\n",
       "    </tr>\n",
       "  </thead>\n",
       "  <tbody>\n",
       "    <tr>\n",
       "      <th>0</th>\n",
       "      <td>1500</td>\n",
       "      <td>4303</td>\n",
       "    </tr>\n",
       "    <tr>\n",
       "      <th>1</th>\n",
       "      <td>5500</td>\n",
       "      <td>6105</td>\n",
       "    </tr>\n",
       "    <tr>\n",
       "      <th>2</th>\n",
       "      <td>1700</td>\n",
       "      <td>2098</td>\n",
       "    </tr>\n",
       "  </tbody>\n",
       "</table>\n",
       "</div>"
      ],
      "text/plain": [
       "   IniCost  UltCost\n",
       "0     1500     4303\n",
       "1     5500     6105\n",
       "2     1700     2098"
      ]
     },
     "execution_count": 113,
     "metadata": {},
     "output_type": "execute_result"
    }
   ],
   "source": [
    "# Resultado final.\n",
    "df_train3.loc[:,('IniCost','UltCost')].head(3)"
   ]
  },
  {
   "cell_type": "markdown",
   "id": "outer-defensive",
   "metadata": {},
   "source": [
    "## Edad\n",
    "\n",
    "Las variables Age y DaysWorkedPerWeek deben ser de tipo entero, sin decimales."
   ]
  },
  {
   "cell_type": "code",
   "execution_count": 114,
   "id": "blocked-thesis",
   "metadata": {},
   "outputs": [],
   "source": [
    "df_train3['Age'] = df_train3_raw['Age'].astype(int).round(0)"
   ]
  },
  {
   "cell_type": "code",
   "execution_count": 115,
   "id": "representative-laugh",
   "metadata": {},
   "outputs": [],
   "source": [
    "df_train3['DaysWorkedPerWeek'] = df_train3_raw['DaysWorkedPerWeek'].astype(int).round(0)"
   ]
  },
  {
   "cell_type": "markdown",
   "id": "capital-actor",
   "metadata": {},
   "source": [
    "## WeeklyWages, HoursWeek, DaysWeek\n",
    "\n",
    "Revisad el formato de estas variables y realizad las transformaciones oportunas según los criterios especificados anteriormente. Visualizad la distribución de los valores en estas tres variables, usando el tipo de gráfico adecuado. Si existen valores extremos, se tratarán más adelante.\n",
    "\n",
    "Las variables WeeklyWages y HoursWorkedPerWeek deben expresarse como variables numéricas y si es necesario, con decimales."
   ]
  },
  {
   "cell_type": "code",
   "execution_count": 116,
   "id": "induced-convenience",
   "metadata": {
    "scrolled": true
   },
   "outputs": [
    {
     "data": {
      "text/html": [
       "<div>\n",
       "<style scoped>\n",
       "    .dataframe tbody tr th:only-of-type {\n",
       "        vertical-align: middle;\n",
       "    }\n",
       "\n",
       "    .dataframe tbody tr th {\n",
       "        vertical-align: top;\n",
       "    }\n",
       "\n",
       "    .dataframe thead th {\n",
       "        text-align: right;\n",
       "    }\n",
       "</style>\n",
       "<table border=\"1\" class=\"dataframe\">\n",
       "  <thead>\n",
       "    <tr style=\"text-align: right;\">\n",
       "      <th></th>\n",
       "      <th>WeeklyWages</th>\n",
       "      <th>HoursWorkedPerWeek</th>\n",
       "      <th>DaysWorkedPerWeek</th>\n",
       "    </tr>\n",
       "  </thead>\n",
       "  <tbody>\n",
       "    <tr>\n",
       "      <th>0</th>\n",
       "      <td>500</td>\n",
       "      <td>38</td>\n",
       "      <td>5</td>\n",
       "    </tr>\n",
       "    <tr>\n",
       "      <th>1</th>\n",
       "      <td>509,34</td>\n",
       "      <td>37,5</td>\n",
       "      <td>5</td>\n",
       "    </tr>\n",
       "    <tr>\n",
       "      <th>2</th>\n",
       "      <td>709,1</td>\n",
       "      <td>38</td>\n",
       "      <td>5</td>\n",
       "    </tr>\n",
       "  </tbody>\n",
       "</table>\n",
       "</div>"
      ],
      "text/plain": [
       "  WeeklyWages HoursWorkedPerWeek  DaysWorkedPerWeek\n",
       "0         500                 38                  5\n",
       "1      509,34               37,5                  5\n",
       "2       709,1                 38                  5"
      ]
     },
     "execution_count": 116,
     "metadata": {},
     "output_type": "execute_result"
    }
   ],
   "source": [
    "# Mostramos los tres primeros registros a modo de ejemplo.\n",
    "df_train3_raw.loc[:, ('WeeklyWages','HoursWorkedPerWeek','DaysWorkedPerWeek')].head(3)"
   ]
  },
  {
   "cell_type": "code",
   "execution_count": 117,
   "id": "centered-offering",
   "metadata": {},
   "outputs": [],
   "source": [
    "# Función para reemplazamos el coma por el punto.\n",
    "def coma_to_point(x):\n",
    "    x = str(x)\n",
    "    return x.replace(',','.')"
   ]
  },
  {
   "cell_type": "code",
   "execution_count": 118,
   "id": "technological-attribute",
   "metadata": {},
   "outputs": [],
   "source": [
    "# Cambio del tipo de dato.\n",
    "df_train3['WeeklyWages'] = df_train3_raw['WeeklyWages'].apply(coma_to_point).astype(float)\n",
    "df_train3['HoursWeek'] = df_train3_raw['HoursWorkedPerWeek'].apply(coma_to_point).astype(float)\n",
    "df_train3['DaysWeek'] = df_train3_raw['DaysWorkedPerWeek'].apply(coma_to_point).astype(int).round(0)"
   ]
  },
  {
   "cell_type": "code",
   "execution_count": 119,
   "id": "southern-update",
   "metadata": {
    "scrolled": true
   },
   "outputs": [
    {
     "data": {
      "text/html": [
       "<div>\n",
       "<style scoped>\n",
       "    .dataframe tbody tr th:only-of-type {\n",
       "        vertical-align: middle;\n",
       "    }\n",
       "\n",
       "    .dataframe tbody tr th {\n",
       "        vertical-align: top;\n",
       "    }\n",
       "\n",
       "    .dataframe thead th {\n",
       "        text-align: right;\n",
       "    }\n",
       "</style>\n",
       "<table border=\"1\" class=\"dataframe\">\n",
       "  <thead>\n",
       "    <tr style=\"text-align: right;\">\n",
       "      <th></th>\n",
       "      <th>WeeklyWages</th>\n",
       "      <th>HoursWeek</th>\n",
       "      <th>DaysWeek</th>\n",
       "    </tr>\n",
       "  </thead>\n",
       "  <tbody>\n",
       "    <tr>\n",
       "      <th>0</th>\n",
       "      <td>500.00</td>\n",
       "      <td>38.0</td>\n",
       "      <td>5</td>\n",
       "    </tr>\n",
       "    <tr>\n",
       "      <th>1</th>\n",
       "      <td>509.34</td>\n",
       "      <td>37.5</td>\n",
       "      <td>5</td>\n",
       "    </tr>\n",
       "    <tr>\n",
       "      <th>2</th>\n",
       "      <td>709.10</td>\n",
       "      <td>38.0</td>\n",
       "      <td>5</td>\n",
       "    </tr>\n",
       "  </tbody>\n",
       "</table>\n",
       "</div>"
      ],
      "text/plain": [
       "   WeeklyWages  HoursWeek  DaysWeek\n",
       "0       500.00       38.0         5\n",
       "1       509.34       37.5         5\n",
       "2       709.10       38.0         5"
      ]
     },
     "execution_count": 119,
     "metadata": {},
     "output_type": "execute_result"
    }
   ],
   "source": [
    "# Mostramos el resultado.\n",
    "df_train3.loc[:, ('WeeklyWages','HoursWeek','DaysWeek')].head(3)"
   ]
  },
  {
   "cell_type": "markdown",
   "id": "physical-prisoner",
   "metadata": {},
   "source": [
    "Visualizamos un histograma de cada una de las variables. Vemos que para las variables WeeklyWages y HoursWeek existen valores atípicos que hacen perder el foco en los datos relevantes."
   ]
  },
  {
   "cell_type": "code",
   "execution_count": 120,
   "id": "organic-drive",
   "metadata": {},
   "outputs": [
    {
     "data": {
      "image/png": "[encoded data removed]",
      "text/plain": [
       "<Figure size 432x288 with 3 Axes>"
      ]
     },
     "metadata": {},
     "output_type": "display_data"
    }
   ],
   "source": [
    "# Visualizacion histogramas.\n",
    "plt.subplot(1,3,1)\n",
    "plt.hist(df_train3['DaysWeek'], alpha =0.5, histtype='stepfilled', bins=7)\n",
    "plt.subplot(1,3,2)\n",
    "plt.hist(df_train3['WeeklyWages'], alpha =0.5, histtype='stepfilled', bins=500)\n",
    "plt.subplot(1,3,3)\n",
    "plt.hist(df_train3['HoursWeek'], alpha =0.5, histtype='stepfilled', bins=500)\n",
    "plt.show()\n",
    "plt.show()"
   ]
  },
  {
   "cell_type": "markdown",
   "id": "consecutive-order",
   "metadata": {},
   "source": [
    "# Valores atípicos\n",
    "Revisad si hay valores atípicos en las variables Age y HoursWeek. Si se trata de un valor anómalo, es decir normalmente alto o bajo, substituir su valor por NA y posteriormente se imputará.\n",
    "\n",
    "En la figura inferior podemos ves los valores que exceden los bigotes del diagrama de caja."
   ]
  },
  {
   "cell_type": "code",
   "execution_count": 121,
   "id": "voluntary-reggae",
   "metadata": {
    "scrolled": true
   },
   "outputs": [
    {
     "data": {
      "image/png": "[encoded data removed]",
      "text/plain": [
       "<Figure size 432x288 with 3 Axes>"
      ]
     },
     "metadata": {},
     "output_type": "display_data"
    }
   ],
   "source": [
    "fig = plt.figure()\n",
    "\n",
    "# Mostramos el box plot de las tres variables\n",
    "ax = fig.add_subplot(1,3,1)\n",
    "ax.boxplot(df_train3['Age'])\n",
    "ax = fig.add_subplot(1,3,2)\n",
    "ax.boxplot(df_train3['WeeklyWages'])\n",
    "ax = fig.add_subplot(1,3,3)\n",
    "ax.boxplot(df_train3['DaysWeek'])\n",
    "plt.show()"
   ]
  },
  {
   "cell_type": "markdown",
   "id": "white-gather",
   "metadata": {},
   "source": [
    "## Age"
   ]
  },
  {
   "cell_type": "code",
   "execution_count": 122,
   "id": "owned-omega",
   "metadata": {
    "scrolled": true
   },
   "outputs": [
    {
     "name": "stdout",
     "output_type": "stream",
     "text": [
      "0.25    23.0\n",
      "0.50    32.0\n",
      "0.75    43.0\n",
      "Name: Age, dtype: float64\n"
     ]
    }
   ],
   "source": [
    "# Cuartiles.\n",
    "a = df_train3['Age'].quantile([0.25, 0.5, 0.75])\n",
    "print(a)"
   ]
  },
  {
   "cell_type": "code",
   "execution_count": 123,
   "id": "ultimate-causing",
   "metadata": {
    "scrolled": true
   },
   "outputs": [
    {
     "data": {
      "image/png": "[encoded data removed]",
      "text/plain": [
       "<Figure size 432x288 with 1 Axes>"
      ]
     },
     "metadata": {},
     "output_type": "display_data"
    }
   ],
   "source": [
    "# Cuartiles.\n",
    "quartiles = np.percentile(df_train3['Age'], [25, 50, 75])\n",
    "\n",
    "# IQR\n",
    "Ls = quartiles[2] + (quartiles[2]-quartiles[0]) * 1.5 \n",
    "Li = quartiles[0] - (quartiles[2]-quartiles[0]) * 1.5\n",
    "\n",
    "# Reemplazamos los valores por NA\n",
    "df_train3.loc[df_train3['Age'] > Ls, 'Age'] = np.nan\n",
    "df_train3.loc[df_train3['Age'] < Li, 'Age'] = np.nan\n",
    "\n",
    "df_train3['Age'].plot.box()\n",
    "plt.show()"
   ]
  },
  {
   "cell_type": "markdown",
   "id": "dress-aviation",
   "metadata": {},
   "source": [
    "## HoursWeek"
   ]
  },
  {
   "cell_type": "code",
   "execution_count": 124,
   "id": "twenty-keeping",
   "metadata": {},
   "outputs": [
    {
     "data": {
      "image/png": "[encoded data removed]",
      "text/plain": [
       "<Figure size 432x288 with 1 Axes>"
      ]
     },
     "metadata": {},
     "output_type": "display_data"
    }
   ],
   "source": [
    "# Quartiles\n",
    "quartiles = np.percentile(df_train3['HoursWeek'],[25, 50, 75])\n",
    "\n",
    "# IQR\n",
    "Ls = quartiles[2] + (quartiles[2]-quartiles[0]) * 1.5 \n",
    "Li = quartiles[0] - (quartiles[2]-quartiles[0]) * 1.5\n",
    "\n",
    "# Reemplazamos los valores por NA\n",
    "df_train3.loc[df_train3['HoursWeek'] > Ls, 'HoursWeek'] = np.nan\n",
    "df_train3.loc[df_train3['HoursWeek'] < Li, 'HoursWeek'] = np.nan\n",
    "\n",
    "# Mostramos el resultado sin outliers\n",
    "df_train3['HoursWeek'].plot.box()\n",
    "plt.show()"
   ]
  },
  {
   "cell_type": "markdown",
   "id": "private-document",
   "metadata": {},
   "source": [
    "Una vez que hemos 'eliminados' los valores atipicos reemplazandolos por el valor NA, podemos observar como ya no hay valores por encima de los bigores de la caja "
   ]
  },
  {
   "cell_type": "markdown",
   "id": "referenced-startup",
   "metadata": {},
   "source": [
    "# Imputación de valores\n",
    "Buscad si existen valores perdidos en las variables cuantitativas Age, WeeklyWages, HoursWeek, IniCost y UltCost.\n",
    "\n",
    "En caso de valores perdidos, aplicad el proceso siguiente:"
   ]
  },
  {
   "cell_type": "markdown",
   "id": "oriental-probability",
   "metadata": {},
   "source": [
    "Comprobamos que solo la variable Age y HoursWeek contienen valores nulos. Procedemos a imputarlos."
   ]
  },
  {
   "cell_type": "code",
   "execution_count": 125,
   "id": "large-tobago",
   "metadata": {
    "scrolled": true
   },
   "outputs": [
    {
     "data": {
      "text/plain": [
       "ClaimNumber              0\n",
       "DateTimeOfAccident       0\n",
       "DateReported             0\n",
       "Age                     34\n",
       "Gender                   0\n",
       "MaritalStatus            0\n",
       "DependentChildren        0\n",
       "DependentsOther          0\n",
       "WeeklyWages              0\n",
       "PartTimeFullTime         0\n",
       "HoursWeek             7446\n",
       "DaysWeek                 0\n",
       "ClaimDescription         0\n",
       "IniCost                  0\n",
       "UltCost                  0\n",
       "DaysWorkedPerWeek        0\n",
       "dtype: int64"
      ]
     },
     "execution_count": 125,
     "metadata": {},
     "output_type": "execute_result"
    }
   ],
   "source": [
    "# Comprobamos las variables con valores nulos.\n",
    "df_train3.isnull().sum()\n",
    "df_train3.isna().sum()"
   ]
  },
  {
   "cell_type": "markdown",
   "id": "recreational-compression",
   "metadata": {},
   "source": [
    "## Age\n",
    "\n",
    "* Para Age, aplicad imputación por la media aritmética."
   ]
  },
  {
   "cell_type": "code",
   "execution_count": 126,
   "id": "minus-windows",
   "metadata": {},
   "outputs": [],
   "source": [
    "# Media.\n",
    "def my_mean(serie):\n",
    "    return np.true_divide(serie.sum(),len(serie))"
   ]
  },
  {
   "cell_type": "code",
   "execution_count": 127,
   "id": "forward-membrane",
   "metadata": {},
   "outputs": [
    {
     "name": "stdout",
     "output_type": "stream",
     "text": [
      "Media antes the de la imputación 33.8031\n"
     ]
    }
   ],
   "source": [
    "print('Media antes the de la imputación {:.4f}'.format(my_mean(df_train3['Age'])))"
   ]
  },
  {
   "cell_type": "code",
   "execution_count": 128,
   "id": "subjective-index",
   "metadata": {},
   "outputs": [],
   "source": [
    "# Imputamos los valores nulos con la funcion propria de la media.\n",
    "mask = df_train3['Age'].isna()\n",
    "df_train3.loc[mask, 'Age'] = my_mean(df_train3['Age'])"
   ]
  },
  {
   "cell_type": "code",
   "execution_count": 129,
   "id": "challenging-overhead",
   "metadata": {
    "scrolled": true
   },
   "outputs": [
    {
     "name": "stdout",
     "output_type": "stream",
     "text": [
      "Media despues the de la imputación 33.8244\n"
     ]
    }
   ],
   "source": [
    "print('Media despues the de la imputación {:.4f}'.format(my_mean(df_train3['Age'])))"
   ]
  },
  {
   "cell_type": "markdown",
   "id": "coordinated-license",
   "metadata": {},
   "source": [
    "La variacion de la media Age no varia significativamente. Esta variación minima tiene sentido si vemos el número total de valores nulos con respecto al total.  "
   ]
  },
  {
   "cell_type": "markdown",
   "id": "breathing-partition",
   "metadata": {},
   "source": [
    "## HoursWeek"
   ]
  },
  {
   "cell_type": "markdown",
   "id": "august-share",
   "metadata": {},
   "source": [
    "* En el resto de variables, aplicad imputación por vecinos más cercanos, usando la distancia de Gower, considerando en el cómputo de los vecinos más cercanos el resto de variables cuantitativas mencionadas en este apartado. Además, considerad que la imputación debe hacerse con registros del mismo género. Per exemple, si un registro a imputar es de género \"M\", se debe realizar la imputación usando las variables cuantitativas de los registros de género \"M\". Para realizar esta imputación, podéis usar la función \"kNN\" de la librería VIM."
   ]
  },
  {
   "cell_type": "code",
   "execution_count": 130,
   "id": "legendary-pricing",
   "metadata": {},
   "outputs": [
    {
     "name": "stdout",
     "output_type": "stream",
     "text": [
      "Media antes de de la imputación 33.2232\n"
     ]
    }
   ],
   "source": [
    "print('Media antes de de la imputación {:.4f}'.format(my_mean(df_train3['HoursWeek'])))"
   ]
  },
  {
   "cell_type": "markdown",
   "id": "inclusive-egyptian",
   "metadata": {},
   "source": [
    "La imputación debe hacerse teniendo en cuenta la variable 'Gender' por lo que subdividimos el dataset en tres sub-datasets: M, F y U. "
   ]
  },
  {
   "cell_type": "code",
   "execution_count": 131,
   "id": "excellent-reader",
   "metadata": {
    "scrolled": true
   },
   "outputs": [
    {
     "data": {
      "text/plain": [
       "M    41660\n",
       "F    12041\n",
       "U      299\n",
       "Name: Gender, dtype: int64"
      ]
     },
     "execution_count": 131,
     "metadata": {},
     "output_type": "execute_result"
    }
   ],
   "source": [
    "# Agrupamos por genger\n",
    "df_train3['Gender'].value_counts()"
   ]
  },
  {
   "cell_type": "markdown",
   "id": "smoking-sapphire",
   "metadata": {},
   "source": [
    "## Male"
   ]
  },
  {
   "cell_type": "markdown",
   "id": "adolescent-foster",
   "metadata": {},
   "source": [
    "Creamos un dataset teniendo en cuenta la variable 'Male' y ejecutamos la imputacion por KNN."
   ]
  },
  {
   "cell_type": "code",
   "execution_count": 132,
   "id": "soviet-baking",
   "metadata": {},
   "outputs": [
    {
     "data": {
      "text/plain": [
       "False    37648\n",
       "True      4012\n",
       "Name: HoursWeek, dtype: int64"
      ]
     },
     "execution_count": 132,
     "metadata": {},
     "output_type": "execute_result"
    }
   ],
   "source": [
    "# Dataframe para realizar la imputación KNN sobre el genero masculino.\n",
    "df_m = df_train3.loc[df_train3['Gender'] == 'M', ('Age', 'WeeklyWages', 'HoursWeek', 'IniCost', 'UltCost')]\n",
    "# Contamos los valores nulos.\n",
    "df_m['HoursWeek'].isna().value_counts()"
   ]
  },
  {
   "cell_type": "code",
   "execution_count": 133,
   "id": "described-radius",
   "metadata": {
    "scrolled": true
   },
   "outputs": [],
   "source": [
    "# Applicamos KNN\n",
    "imputer = KNNImputer(n_neighbors=5)\n",
    "m_imputed = imputer.fit_transform(df_m)"
   ]
  },
  {
   "cell_type": "markdown",
   "id": "sharp-registrar",
   "metadata": {},
   "source": [
    "Obtenemos un sub-dataset con los valores nulos imputados."
   ]
  },
  {
   "cell_type": "code",
   "execution_count": 134,
   "id": "entertaining-cream",
   "metadata": {},
   "outputs": [],
   "source": [
    "df_m_imputed = pd.DataFrame(m_imputed, columns = ['Age', 'WeeklyWages', 'HoursWeek', 'IniCost', 'UltCost'], index = df_m.index)"
   ]
  },
  {
   "cell_type": "markdown",
   "id": "yellow-interpretation",
   "metadata": {},
   "source": [
    "## Female"
   ]
  },
  {
   "cell_type": "markdown",
   "id": "muslim-authority",
   "metadata": {},
   "source": [
    "Creamos un dataset teniendo en cuenta la variable 'Female' y ejecutamos la imputacion por KNN."
   ]
  },
  {
   "cell_type": "code",
   "execution_count": 135,
   "id": "threaded-trouble",
   "metadata": {},
   "outputs": [
    {
     "data": {
      "text/plain": [
       "False    8693\n",
       "True     3348\n",
       "Name: HoursWeek, dtype: int64"
      ]
     },
     "execution_count": 135,
     "metadata": {},
     "output_type": "execute_result"
    }
   ],
   "source": [
    "# Dataframe para realizar la imputación KNN sobre el genero femenino.\n",
    "df_f = df_train3.loc[df_train3['Gender'] == 'F', ('Age', 'WeeklyWages', 'HoursWeek', 'IniCost', 'UltCost')]\n",
    "# Contamos los valores nulos.\n",
    "df_f['HoursWeek'].isna().value_counts()"
   ]
  },
  {
   "cell_type": "code",
   "execution_count": 136,
   "id": "graduate-buyer",
   "metadata": {},
   "outputs": [],
   "source": [
    "# Applicamos KNN\n",
    "imputer = KNNImputer(n_neighbors=5)\n",
    "f_imputed = imputer.fit_transform(df_f)"
   ]
  },
  {
   "cell_type": "markdown",
   "id": "chinese-reconstruction",
   "metadata": {},
   "source": [
    "Obtenemos un sub-dataset con los valores nulos imputados."
   ]
  },
  {
   "cell_type": "code",
   "execution_count": 137,
   "id": "allied-afternoon",
   "metadata": {},
   "outputs": [],
   "source": [
    "df_f_imputed = pd.DataFrame(f_imputed, columns = ['Age', 'WeeklyWages', 'HoursWeek', 'IniCost', 'UltCost'], index = df_f.index)"
   ]
  },
  {
   "cell_type": "markdown",
   "id": "annoying-campus",
   "metadata": {},
   "source": [
    "## Undefined"
   ]
  },
  {
   "cell_type": "markdown",
   "id": "banner-inquiry",
   "metadata": {},
   "source": [
    "Creamos un dataset teniendo en cuenta la variable 'Indefinido' y ejecutamos la imputacion por KNN."
   ]
  },
  {
   "cell_type": "code",
   "execution_count": 138,
   "id": "tender-mount",
   "metadata": {
    "scrolled": true
   },
   "outputs": [
    {
     "data": {
      "text/plain": [
       "False    213\n",
       "True      86\n",
       "Name: HoursWeek, dtype: int64"
      ]
     },
     "execution_count": 138,
     "metadata": {},
     "output_type": "execute_result"
    }
   ],
   "source": [
    "# Dataframe para realizar la imputación KNN sobre el genero indefinido.\n",
    "df_u = df_train3.loc[df_train3['Gender'] == 'U', ('Age', 'WeeklyWages', 'HoursWeek', 'IniCost', 'UltCost')]\n",
    "# Contamos los valores nulos.\n",
    "df_u['HoursWeek'].isna().value_counts()"
   ]
  },
  {
   "cell_type": "code",
   "execution_count": 139,
   "id": "radical-array",
   "metadata": {
    "scrolled": false
   },
   "outputs": [],
   "source": [
    "# Applicamos KNN\n",
    "imputer = KNNImputer(n_neighbors=5)\n",
    "u_imputed = imputer.fit_transform(df_u)"
   ]
  },
  {
   "cell_type": "markdown",
   "id": "orange-sleeping",
   "metadata": {},
   "source": [
    "Obtenemos un sub-dataset con los valores nulos imputados."
   ]
  },
  {
   "cell_type": "code",
   "execution_count": 140,
   "id": "applicable-smoke",
   "metadata": {},
   "outputs": [],
   "source": [
    "\n",
    "df_u_imputed = pd.DataFrame(u_imputed, columns = ['Age', 'WeeklyWages', 'HoursWeek', 'IniCost', 'UltCost'], index = df_u.index)"
   ]
  },
  {
   "cell_type": "markdown",
   "id": "floating-awareness",
   "metadata": {},
   "source": [
    "## Concatenación de los sub-dataset\n",
    "\n",
    "Concatenamos los tres dataset en un solo y añadimos el dataset resultante al dataset originasl df_train3."
   ]
  },
  {
   "cell_type": "code",
   "execution_count": 141,
   "id": "covered-partition",
   "metadata": {},
   "outputs": [],
   "source": [
    "# Concatenación.\n",
    "HoursWeek = pd.concat([df_f_imputed['HoursWeek'],df_m_imputed['HoursWeek'], df_u_imputed['HoursWeek']])"
   ]
  },
  {
   "cell_type": "markdown",
   "id": "french-livestock",
   "metadata": {},
   "source": [
    "Para tener la certeza que solo los valores nulos han sido modificados comparamos el dataset original y el modificado con las imputaciones. Vemos que la imputación se ha realizado correctamente, ya que el numero total de valores modificados es el mismo que el numero de valores nulos inicial."
   ]
  },
  {
   "cell_type": "code",
   "execution_count": 142,
   "id": "assisted-september",
   "metadata": {},
   "outputs": [],
   "source": [
    "# df_train3['HoursWeek'] es el dataset orifinal y HoursWeek el nuevo dataset con las imputaciones.\n",
    "mask = df_train3['HoursWeek'].sort_index() == HoursWeek.sort_index()"
   ]
  },
  {
   "cell_type": "code",
   "execution_count": 143,
   "id": "respective-crazy",
   "metadata": {
    "scrolled": true
   },
   "outputs": [
    {
     "data": {
      "text/plain": [
       "True     46554\n",
       "False     7446\n",
       "Name: HoursWeek, dtype: int64"
      ]
     },
     "execution_count": 143,
     "metadata": {},
     "output_type": "execute_result"
    }
   ],
   "source": [
    "mask.value_counts()"
   ]
  },
  {
   "cell_type": "markdown",
   "id": "technical-server",
   "metadata": {},
   "source": [
    "Copiamos los nuevos valores al dataset original."
   ]
  },
  {
   "cell_type": "code",
   "execution_count": 144,
   "id": "global-executive",
   "metadata": {},
   "outputs": [],
   "source": [
    "# Reemplazamos los valores iniciales.\n",
    "df_train3['HoursWeek'] = HoursWeek"
   ]
  },
  {
   "cell_type": "markdown",
   "id": "extensive-taste",
   "metadata": {},
   "source": [
    "La variacion de la media varia significativamente. Esta variación tiene sentido si vemos el número total de valores nulos con respecto al total."
   ]
  },
  {
   "cell_type": "code",
   "execution_count": 145,
   "id": "narrative-shanghai",
   "metadata": {
    "scrolled": false
   },
   "outputs": [
    {
     "name": "stdout",
     "output_type": "stream",
     "text": [
      "Media después de de la imputación 38.5324\n"
     ]
    }
   ],
   "source": [
    "print('Media después de de la imputación {:.4f}'.format(df_train3['HoursWeek'].mean()))"
   ]
  },
  {
   "cell_type": "code",
   "execution_count": 146,
   "id": "meaning-judgment",
   "metadata": {},
   "outputs": [
    {
     "data": {
      "text/plain": [
       "ClaimNumber           0\n",
       "DateTimeOfAccident    0\n",
       "DateReported          0\n",
       "Age                   0\n",
       "Gender                0\n",
       "MaritalStatus         0\n",
       "DependentChildren     0\n",
       "DependentsOther       0\n",
       "WeeklyWages           0\n",
       "PartTimeFullTime      0\n",
       "HoursWeek             0\n",
       "DaysWeek              0\n",
       "ClaimDescription      0\n",
       "IniCost               0\n",
       "UltCost               0\n",
       "DaysWorkedPerWeek     0\n",
       "dtype: int64"
      ]
     },
     "execution_count": 146,
     "metadata": {},
     "output_type": "execute_result"
    }
   ],
   "source": [
    "# Comprobamoslas variables con valores nulos.\n",
    "df_train3.isnull().sum()\n",
    "df_train3.isna().sum()"
   ]
  },
  {
   "cell_type": "markdown",
   "id": "wrapped-fishing",
   "metadata": {},
   "source": [
    "# Preparación de los datos\n",
    "\n",
    "## Tiempo de abertura del expediente\n",
    "Calculad el tiempo que se tarda en abrir el expediente desde el suceso del accidente, a partir de las variables DateOfTimeAccident y DateReported. Para ello, debéis convertir las variables en formato fecha (Date) y realizar posteriormente el cálculo. Guardad la información en una variable Time del conjunto de datos.\n"
   ]
  },
  {
   "cell_type": "code",
   "execution_count": 147,
   "id": "incomplete-riding",
   "metadata": {},
   "outputs": [],
   "source": [
    "# Convertimos las variables a Datetime.\n",
    "df_train3_raw['DateTimeOfAccident'] = pd.to_datetime(df_train3_raw['DateTimeOfAccident'])\n",
    "df_train3_raw['DateReported'] = pd.to_datetime(df_train3_raw['DateReported'])"
   ]
  },
  {
   "cell_type": "code",
   "execution_count": 148,
   "id": "latin-gnome",
   "metadata": {},
   "outputs": [],
   "source": [
    "# Calculad el tiempo que se tarda en abrir el expediente desde el suceso del accidente.\n",
    "df_train3['Time'] = df_train3_raw['DateReported'] - df_train3_raw['DateTimeOfAccident']\n",
    "df_train3['Time'] = df_train3['Time'].dt.days"
   ]
  },
  {
   "cell_type": "code",
   "execution_count": 149,
   "id": "hollow-individual",
   "metadata": {},
   "outputs": [
    {
     "data": {
      "text/plain": [
       "0    86\n",
       "1    12\n",
       "2    20\n",
       "Name: Time, dtype: int64"
      ]
     },
     "execution_count": 149,
     "metadata": {},
     "output_type": "execute_result"
    }
   ],
   "source": [
    "# Mostramos la nueva variable Time.\n",
    "df_train3['Time'].head(3)"
   ]
  },
  {
   "cell_type": "markdown",
   "id": "danish-cargo",
   "metadata": {},
   "source": [
    "## Diferencia entre IniCost y UltCost\n",
    "Calculad la diferencia entre el coste final y el coste inicial estimado. Añadid una variable “DifCost” al conjunto de datos y visualizad su distribución con un gráfico adecuado."
   ]
  },
  {
   "cell_type": "code",
   "execution_count": 150,
   "id": "ranging-rocket",
   "metadata": {},
   "outputs": [],
   "source": [
    "# Calculo entre el coste final y el coste inicial estimado. \n",
    "df_train3['DifCost'] = df_train3['UltCost'] - df_train3['IniCost']"
   ]
  },
  {
   "cell_type": "markdown",
   "id": "advisory-resort",
   "metadata": {},
   "source": [
    "Ya que los outliers no permiten una visualización correcta de la distribucion, eliminamos los valores atipicos."
   ]
  },
  {
   "cell_type": "code",
   "execution_count": 151,
   "id": "textile-caribbean",
   "metadata": {},
   "outputs": [],
   "source": [
    "df_train3_tmp = df_train3.copy()\n",
    "\n",
    "# Quartiles\n",
    "quartiles = np.percentile(df_train3['DifCost'],[25, 50, 75])\n",
    "\n",
    "# IQR\n",
    "Ls = quartiles[2] + (quartiles[2]-quartiles[0]) * 1.5 \n",
    "Li = quartiles[0] - (quartiles[2]-quartiles[0]) * 1.5\n",
    "\n",
    "# Reemplazamos los valores por NA\n",
    "df_train3_tmp.loc[df_train3['DifCost'] > Ls, 'DifCost'] = np.nan\n",
    "df_train3_tmp.loc[df_train3['DifCost'] < Li, 'DifCost'] = np.nan"
   ]
  },
  {
   "cell_type": "code",
   "execution_count": 152,
   "id": "signal-tragedy",
   "metadata": {
    "scrolled": true
   },
   "outputs": [
    {
     "data": {
      "text/plain": [
       "Text(0.5, 0, 'Diferencia entre el coste final y el coste inicial estimado')"
      ]
     },
     "execution_count": 152,
     "metadata": {},
     "output_type": "execute_result"
    },
    {
     "data": {
      "image/png": "[encoded data removed]",
      "text/plain": [
       "<Figure size 432x288 with 1 Axes>"
      ]
     },
     "metadata": {},
     "output_type": "display_data"
    }
   ],
   "source": [
    "# Mostramos su desidad\n",
    "ax = df_train3_tmp['DifCost'].plot.density()\n",
    "ax.set_xlabel('Diferencia entre el coste final y el coste inicial estimado')"
   ]
  },
  {
   "cell_type": "markdown",
   "id": "flexible-integrity",
   "metadata": {},
   "source": [
    "Presenta una distribucion centrada en cero siendo el lado derecho más proninciado (skewed)."
   ]
  },
  {
   "cell_type": "code",
   "execution_count": 153,
   "id": "current-eugene",
   "metadata": {
    "scrolled": true
   },
   "outputs": [
    {
     "data": {
      "image/png": "[encoded data removed]",
      "text/plain": [
       "<Figure size 432x288 with 1 Axes>"
      ]
     },
     "metadata": {},
     "output_type": "display_data"
    }
   ],
   "source": [
    "# Mostramos el histograma.\n",
    "binnedDifCost = pd.cut(df_train3_tmp['DifCost'],10)\n",
    "ax = binnedDifCost.value_counts().plot.bar()\n",
    "ax.set_xlabel('Intervalos entre la diferencia entre el coste final y el coste inicial')\n",
    "plt.show()"
   ]
  },
  {
   "cell_type": "markdown",
   "id": "exposed-samoa",
   "metadata": {},
   "source": [
    "Observamos que la mayoria de las muestras se encuentra en el primer bin entre los valores -260.4 y 493.0."
   ]
  },
  {
   "cell_type": "markdown",
   "id": "italic-indicator",
   "metadata": {},
   "source": [
    "# Estudio descriptivo\n",
    "\n",
    "## Funciones de media robustas\n",
    "\n",
    "Implementad una función, dado un vector con datos numéricos, calcule la media recortada y la media Winsor. Estas funciones se deben definir como sigue:\n",
    "\n",
    "media.recortada <- function( x, perc=0.05){}\n",
    "\n",
    "media.winsor( x, perc=0.05){}\n",
    "\n",
    "donde x es el vector de datos y perc la fracción de los datos a recortar (por defecto, 0.05). Comprobad que funcionan correctamente.\n"
   ]
  },
  {
   "cell_type": "markdown",
   "id": "checked-clothing",
   "metadata": {},
   "source": [
    "## Funciones propias."
   ]
  },
  {
   "cell_type": "code",
   "execution_count": 154,
   "id": "competitive-range",
   "metadata": {},
   "outputs": [],
   "source": [
    "# Media recortada.\n",
    "def recortada(serie, percentage):\n",
    "        serie_sorted = np.sort(serie)\n",
    "        position = percentage * len(serie_sorted) \n",
    "        #print('Trimmed at position: {}'.format(position))\n",
    "        if 0 < percentage and percentage < 0.5:\n",
    "            serie_trimmed = serie_sorted[int(np.floor(position)):-int(np.ceil(position))]\n",
    "            return 'Media recortada al {}% {:.2f}'.format(percentage*100 ,my_mean(serie_trimmed))                                                               \n",
    "        else:\n",
    "            print('ERROR: percentage not between 0 < x > 0.5')\n",
    "            \n",
    "# Media Winsor.\n",
    "def my_winsor(serie, percentage):\n",
    "        serie_sorted = np.sort(serie)\n",
    "        position = percentage * len(serie_sorted) \n",
    "        #print('Trimmed at position: {}'.format(position))\n",
    "        if 0 < percentage and percentage < 0.5:\n",
    "            serie_sorted[-int(np.floor(position)):] = serie_sorted[-int(np.floor(position+1))]\n",
    "            serie_sorted[:int(np.ceil(position))] = serie_sorted[int(np.floor(position))]\n",
    "            #print(serie_sorted)\n",
    "            return 'Media Winsor al {}% {:.2f}'.format(percentage*100 ,my_mean(serie_sorted))                                                               \n",
    "        else:\n",
    "            print('ERROR: percentage not between 0 < x > 0.5')"
   ]
  },
  {
   "cell_type": "markdown",
   "id": "sixth-entry",
   "metadata": {},
   "source": [
    "## Comprobación de las funciones propias.\n"
   ]
  },
  {
   "cell_type": "code",
   "execution_count": 155,
   "id": "competitive-spyware",
   "metadata": {
    "scrolled": false
   },
   "outputs": [
    {
     "name": "stdout",
     "output_type": "stream",
     "text": [
      "Media recortada al 5.0% 441.93\n"
     ]
    }
   ],
   "source": [
    "# Funcion propia Recortada.\n",
    "print(recortada(df_train3['DifCost'], .05))"
   ]
  },
  {
   "cell_type": "markdown",
   "id": "valuable-cisco",
   "metadata": {},
   "source": [
    "Comprobamos que la media recortada es igual cuando usamos un funcion propia de Python."
   ]
  },
  {
   "cell_type": "code",
   "execution_count": 156,
   "id": "fitting-michigan",
   "metadata": {},
   "outputs": [
    {
     "name": "stdout",
     "output_type": "stream",
     "text": [
      "441.9279012345679\n"
     ]
    }
   ],
   "source": [
    "from scipy.stats import trim_mean\n",
    "\n",
    "# Funcion de una libreria de python.\n",
    "print(trim_mean(df_train3['DifCost'], .05))"
   ]
  },
  {
   "cell_type": "markdown",
   "id": "hollow-dominant",
   "metadata": {},
   "source": [
    "Comprobamos la media Winsor del la variable DifCost y con un array simple que va del 1 al 10 para ver su resultado más facilmente."
   ]
  },
  {
   "cell_type": "code",
   "execution_count": 157,
   "id": "saved-minute",
   "metadata": {},
   "outputs": [
    {
     "data": {
      "text/plain": [
       "'Media Winsor al 5.0% 761.64'"
      ]
     },
     "execution_count": 157,
     "metadata": {},
     "output_type": "execute_result"
    }
   ],
   "source": [
    "# Función propia Winsor.\n",
    "my_winsor(df_train3['DifCost'], .05)"
   ]
  },
  {
   "cell_type": "code",
   "execution_count": 158,
   "id": "modern-entity",
   "metadata": {
    "scrolled": true
   },
   "outputs": [
    {
     "name": "stdout",
     "output_type": "stream",
     "text": [
      "[0 1 2 3 4 5 6 7 8 9]\n"
     ]
    },
    {
     "data": {
      "text/plain": [
       "'Media Winsor al 20.0% 4.50'"
      ]
     },
     "execution_count": 158,
     "metadata": {},
     "output_type": "execute_result"
    }
   ],
   "source": [
    "# Array del 1 al 10\n",
    "i = np.arange(10)\n",
    "print(i)\n",
    "\n",
    "# Ejecutamos nuestra función propia de la media winsor.\n",
    "my_winsor(i, .2)\n"
   ]
  },
  {
   "cell_type": "markdown",
   "id": "executive-vocabulary",
   "metadata": {},
   "source": [
    "[2 2 2 3 4 5 6 7 7 7]"
   ]
  },
  {
   "cell_type": "code",
   "execution_count": 159,
   "id": "western-destruction",
   "metadata": {
    "scrolled": true
   },
   "outputs": [
    {
     "name": "stdout",
     "output_type": "stream",
     "text": [
      "441.9279012345679\n"
     ]
    }
   ],
   "source": [
    "# Importamos la libreria necesaria.\n",
    "from scipy.stats import trim_mean\n",
    "\n",
    "# Ejecutamos la funcion de media recortada.\n",
    "print(trim_mean(df_train3['DifCost'], .05))"
   ]
  },
  {
   "cell_type": "markdown",
   "id": "transparent-harassment",
   "metadata": {},
   "source": [
    "## Estudio descriptivo de las variables cuantitativas\n",
    "\n",
    "Realizad un estudio descriptivo de las variables cuantitativas Age, WeeklyWages, DaysWeek, HoursWeek, IniCost, UltCost. Para ello, preparad una tabla con varias medidas de tedencia central y dispersión, robustas y no robustas. Usad, entre otras, las funciones del apartado anterior. Presentad, asimismo gráficos donde se visualice la distribución de los valores de estas variables cuantitativas."
   ]
  },
  {
   "cell_type": "code",
   "execution_count": 160,
   "id": "processed-calibration",
   "metadata": {},
   "outputs": [],
   "source": [
    "# Variables.\n",
    "var = ['Age', 'WeeklyWages', 'DaysWeek', 'HoursWeek', 'IniCost', 'UltCost']"
   ]
  },
  {
   "cell_type": "markdown",
   "id": "direct-missile",
   "metadata": {},
   "source": [
    "## Tedencia central"
   ]
  },
  {
   "cell_type": "code",
   "execution_count": 161,
   "id": "wrong-debut",
   "metadata": {},
   "outputs": [
    {
     "name": "stdout",
     "output_type": "stream",
     "text": [
      "Medidas de tedencia central para la variable Age: \n",
      "\t Media 33.82 \n",
      "\t Media Winsor al 5.0% 33.68 \n",
      "\t Media recortada al 5.0% 33.31 \n",
      "\t Mediana 32.0 \n",
      "\t Percentiles [23. 32. 43.]\n",
      "Medidas de tedencia central para la variable WeeklyWages: \n",
      "\t Media 416.36 \n",
      "\t Media Winsor al 5.0% 406.01 \n",
      "\t Media recortada al 5.0% 394.62 \n",
      "\t Mediana 392.2 \n",
      "\t Percentiles [200.  392.2 500. ]\n",
      "Medidas de tedencia central para la variable DaysWeek: \n",
      "\t Media 4.91 \n",
      "\t Media Winsor al 5.0% 4.93 \n",
      "\t Media recortada al 5.0% 4.98 \n",
      "\t Mediana 5.0 \n",
      "\t Percentiles [5. 5. 5.]\n",
      "Medidas de tedencia central para la variable HoursWeek: \n",
      "\t Media 38.53 \n",
      "\t Media Winsor al 5.0% 38.58 \n",
      "\t Media recortada al 5.0% 38.54 \n",
      "\t Mediana 38.0 \n",
      "\t Percentiles [38. 38. 40.]\n",
      "Medidas de tedencia central para la variable IniCost: \n",
      "\t Media 7841.15 \n",
      "\t Media Winsor al 5.0% 6108.34 \n",
      "\t Media recortada al 5.0% 5102.87 \n",
      "\t Mediana 2000.0 \n",
      "\t Percentiles [ 700. 2000. 9500.]\n",
      "Medidas de tedencia central para la variable UltCost: \n",
      "\t Media 10194.96 \n",
      "\t Media Winsor al 5.0% 7538.17 \n",
      "\t Media recortada al 5.0% 6195.80 \n",
      "\t Mediana 3179.0 \n",
      "\t Percentiles [1128. 3179. 8900.]\n"
     ]
    }
   ],
   "source": [
    "for i in var:\n",
    "    print('Medidas de tedencia central para la variable {}: \\n\\t Media {:.2f} \\n\\t {} \\n\\t {} \\n\\t Mediana {} \\n\\t Percentiles {}'\n",
    "          .format(i, \n",
    "                  np.mean(df_train3[i])\n",
    "                  , my_winsor(df_train3[i], 0.05)\n",
    "                  , recortada(df_train3[i], 0.05)\n",
    "                  , np.median(df_train3[i])\n",
    "                  , np.percentile(df_train3[i],[25, 50, 75])))"
   ]
  },
  {
   "cell_type": "markdown",
   "id": "distant-pension",
   "metadata": {},
   "source": [
    "En el paso anterior podemos observar differentes cálculo de tendencia central. El primero, mediante la media el cual produce el valor más alto de todos. Esto se debe a que el valor de la media se ve influenciado por los valores extremos minimos y maximos. También observamos como la imputacion de los valores extremos con el método Winsor o mediante la media recortada, eliminando los valores extremos, afecta al valor central disminuyendo considerablemente. Por último observamos la dispersion de las muestras mediante el IQR que define los valores de la variables en los que engloba el 50% de las muestras (desde el percentil 25 al 75). IQR tambien nos permite hacer una primera valoración del tipo de distribución y si está esta desplazada a uno de los lados (skewed)."
   ]
  },
  {
   "cell_type": "code",
   "execution_count": 162,
   "id": "happy-spank",
   "metadata": {},
   "outputs": [
    {
     "data": {
      "image/png": "[encoded data removed]",
      "text/plain": [
       "<Figure size 576x432 with 6 Axes>"
      ]
     },
     "metadata": {},
     "output_type": "display_data"
    }
   ],
   "source": [
    "# Variables a analizar.\n",
    "var = ['Age', 'WeeklyWages', 'DaysWeek', 'HoursWeek', 'IniCost', 'UltCost']\n",
    "\n",
    "# Visualizaciones.\n",
    "fig = plt.figure(figsize=(8, 6))\n",
    "fig.subplots_adjust(hspace=0.5, wspace=0.7)\n",
    "# Age\n",
    "ax = fig.add_subplot(2,3,1)\n",
    "ax = df_train3['Age'].plot.density()\n",
    "ax.set_xlabel('Age')\n",
    "# WeeklyWages\n",
    "ax = fig.add_subplot(2,3,2)\n",
    "ax = df_train3['WeeklyWages'].plot.density()\n",
    "ax.set_xlabel('WeeklyWages')\n",
    "# DaysWeek\n",
    "ax = fig.add_subplot(2,3,3)\n",
    "ax = df_train3['DaysWeek'].plot.density()\n",
    "ax.set_xlabel('DaysWeek')\n",
    "# HoursWeek\n",
    "ax = fig.add_subplot(2,3,4)\n",
    "ax = df_train3['HoursWeek'].plot.density()\n",
    "ax.set_xlabel('HoursWeek')\n",
    "# IniCost\n",
    "ax = fig.add_subplot(2,3,5)\n",
    "ax = df_train3['IniCost'].plot.density()\n",
    "ax.set_xlabel('IniCost')\n",
    "# UltCost\n",
    "ax = fig.add_subplot(2,3,6)\n",
    "ax = df_train3['UltCost'].plot.density()\n",
    "ax.set_xlabel('UltCost')\n",
    "\n",
    "plt.show()"
   ]
  },
  {
   "cell_type": "markdown",
   "id": "stainless-attack",
   "metadata": {},
   "source": [
    "# Archivo final\n",
    "Archivo final\n",
    "Una vez realizado el preprocesamiento sobre el archivo, copiad el resultado de los datos en un archivo llamado\n",
    "“train_clean.csv”."
   ]
  },
  {
   "cell_type": "code",
   "execution_count": 163,
   "id": "received-determination",
   "metadata": {},
   "outputs": [],
   "source": [
    "df_train3.to_csv(path_or_buf='Segovia_vilchez_clean.csv',sep=',')"
   ]
  }
 ],
 "metadata": {
  "kernelspec": {
   "display_name": "Python 3",
   "language": "python",
   "name": "python3"
  },
  "language_info": {
   "codemirror_mode": {
    "name": "ipython",
    "version": 3
   },
   "file_extension": ".py",
   "mimetype": "text/x-python",
   "name": "python",
   "nbconvert_exporter": "python",
   "pygments_lexer": "ipython3",
   "version": "3.8.10"
  }
 },
 "nbformat": 4,
 "nbformat_minor": 5
}
